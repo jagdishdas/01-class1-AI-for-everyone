{
 "cells": [
  {
   "cell_type": "code",
   "execution_count": 3,
   "id": "5deac5e3",
   "metadata": {},
   "outputs": [
    {
     "name": "stdout",
     "output_type": "stream",
     "text": [
      "Institute Name: Saylani Mass IT Training Program \n",
      "Student Name: Jagdish Das \n",
      "Course Name: DS-AI Batch-4 \n",
      "Roll number: 118712\n"
     ]
    }
   ],
   "source": [
    "# Concatination Method with **+**:\n",
    "\n",
    "first_name = \"Jagdish\"\n",
    "last_name = \"Das\"\n",
    "ins_name = \"Saylani Mass IT Training Program\"\n",
    "course_name = \"DS-AI Batch-4\"\n",
    "roll_num = 118712\n",
    "print(\"Institute Name: \"+ins_name,  \"\\nStudent Name: \"+first_name +' '+ last_name, \"\\nCourse Name: \"+course_name, \"\\nRoll number: \"+str(roll_num))\n"
   ]
  },
  {
   "cell_type": "code",
   "execution_count": 4,
   "id": "11a6ca4b",
   "metadata": {},
   "outputs": [
    {
     "name": "stdout",
     "output_type": "stream",
     "text": [
      "Institude Name: Saylani Mass IT Training Program\n",
      "Student Full Name: Jagdish Das\n",
      "course Name: DS-AI Batch-4\n",
      "Roll Number: 118712\n"
     ]
    }
   ],
   "source": [
    "# Concatination Method with **.format method**:\n",
    "\n",
    "first_name = \"Jagdish\"\n",
    "last_name = \"Das\"\n",
    "ins_name = \"Saylani Mass IT Training Program\"\n",
    "course_name = \"DS-AI Batch-4\"\n",
    "roll_num = 118712\n",
    "\n",
    "card = '''Institude Name: {}\n",
    "Student Full Name: {} {}\n",
    "course Name: {}\n",
    "Roll Number: {}'''.format(ins_name,first_name,last_name,course_name,roll_num)\n",
    "\n",
    "print(card)"
   ]
  },
  {
   "cell_type": "code",
   "execution_count": 6,
   "id": "e449f452",
   "metadata": {},
   "outputs": [
    {
     "name": "stdout",
     "output_type": "stream",
     "text": [
      "Pakistan zindabad\n"
     ]
    }
   ],
   "source": [
    "# 1-capitalize Method\n",
    "# The method returns a new string with the first character capitalized.\n",
    "\n",
    "name = \"pakistan zindabad\"\n",
    "print(name.capitalize())"
   ]
  },
  {
   "cell_type": "code",
   "execution_count": 7,
   "id": "b98de867",
   "metadata": {},
   "outputs": [
    {
     "name": "stdout",
     "output_type": "stream",
     "text": [
      "pakistan zindabad\n"
     ]
    }
   ],
   "source": [
    "# 2-CaseFold Method\n",
    "# The method returns a new string with all the alphabetic characters converted to lowercase.\n",
    "\n",
    "name = \"PAKISTAN ZINDABAD\"\n",
    "print(name.casefold())"
   ]
  },
  {
   "cell_type": "code",
   "execution_count": 9,
   "id": "85d06b05",
   "metadata": {},
   "outputs": [
    {
     "name": "stdout",
     "output_type": "stream",
     "text": [
      "                                             Long Live Pakistan                                             \n"
     ]
    }
   ],
   "source": [
    "# 3-Center Method\n",
    "# method returns a new string with the original string centered within the specified width\n",
    "\n",
    "name= \"Long Live Pakistan\"\n",
    "print(name.center(108))"
   ]
  },
  {
   "cell_type": "code",
   "execution_count": 10,
   "id": "159c5bf0",
   "metadata": {},
   "outputs": [
    {
     "name": "stdout",
     "output_type": "stream",
     "text": [
      "2\n"
     ]
    }
   ],
   "source": [
    "# 4-Count Method\n",
    "# returns the number of occurrences of the specified substring or character.\n",
    "\n",
    "name = \"Pakistan zindabad\"\n",
    "print(name.count('i'))"
   ]
  },
  {
   "cell_type": "code",
   "execution_count": 11,
   "id": "b05c23d2",
   "metadata": {},
   "outputs": [
    {
     "name": "stdout",
     "output_type": "stream",
     "text": [
      "b'My name is Jay'\n"
     ]
    }
   ],
   "source": [
    "# 5-encode method\n",
    "# returns an encoded version of the original string.\n",
    "\n",
    "name = \"My name is Jay\"\n",
    "print(name.encode())"
   ]
  },
  {
   "cell_type": "code",
   "execution_count": 13,
   "id": "04723308",
   "metadata": {},
   "outputs": [
    {
     "name": "stdout",
     "output_type": "stream",
     "text": [
      "True\n",
      "False\n"
     ]
    }
   ],
   "source": [
    "# 5-endswith method\n",
    "# returns a boolean value indicating whether the string ends with a specified suffix or not.\n",
    "\n",
    "name = \"Long Live Pakistan\"\n",
    "print(name.endswith('n'))\n",
    "print(name.endswith('d'))"
   ]
  },
  {
   "cell_type": "code",
   "execution_count": 14,
   "id": "38cb36fa",
   "metadata": {},
   "outputs": [
    {
     "name": "stdout",
     "output_type": "stream",
     "text": [
      "Pakistan     zindabad\n"
     ]
    }
   ],
   "source": [
    "# 6-expandtabs\n",
    "# returns a copy of the string with all tab characters (\\t) replaced by one or more spaces.\n",
    "\n",
    "name = \"Pakistan\\t zindabad\"\n",
    "print(name.expandtabs(6))"
   ]
  },
  {
   "cell_type": "code",
   "execution_count": 15,
   "id": "f0944a43",
   "metadata": {},
   "outputs": [
    {
     "name": "stdout",
     "output_type": "stream",
     "text": [
      "5\n",
      "9\n",
      "-1\n",
      "3\n"
     ]
    }
   ],
   "source": [
    "# 7-Find method\n",
    "# returns the lowest index in the string where a specified substring is found.\n",
    "\n",
    "name = \"Pakistan zindabad\"\n",
    "print(name.find(\"t\"))      # Returns value of t at specified index\n",
    "print(name.find(\"zin\"))    # Returns value of \"z\" only at specified index\n",
    "print(name.find(\"x\"))      # Returns No value with \"-1\" as \"x\" is not found in above string\n",
    "print(name.find(\"i\"))      # Returns value of first \"i\" at position 3"
   ]
  },
  {
   "cell_type": "code",
   "execution_count": 16,
   "id": "6b3f8587",
   "metadata": {},
   "outputs": [],
   "source": [
    "# 8-format Method\n",
    "# Already descibe above"
   ]
  },
  {
   "cell_type": "code",
   "execution_count": 19,
   "id": "7abfa77a",
   "metadata": {},
   "outputs": [
    {
     "name": "stdout",
     "output_type": "stream",
     "text": [
      "5\n"
     ]
    },
    {
     "ename": "ValueError",
     "evalue": "substring not found",
     "output_type": "error",
     "traceback": [
      "\u001b[1;31m---------------------------------------------------------------------------\u001b[0m",
      "\u001b[1;31mValueError\u001b[0m                                Traceback (most recent call last)",
      "\u001b[1;32m~\\AppData\\Local\\Temp\\ipykernel_22524\\1209784350.py\u001b[0m in \u001b[0;36m<module>\u001b[1;34m\u001b[0m\n\u001b[0;32m      5\u001b[0m \u001b[0mname\u001b[0m \u001b[1;33m=\u001b[0m \u001b[1;34m\"Pakistan zindabad\"\u001b[0m\u001b[1;33m\u001b[0m\u001b[1;33m\u001b[0m\u001b[0m\n\u001b[0;32m      6\u001b[0m \u001b[0mprint\u001b[0m\u001b[1;33m(\u001b[0m\u001b[0mname\u001b[0m\u001b[1;33m.\u001b[0m\u001b[0mindex\u001b[0m\u001b[1;33m(\u001b[0m\u001b[1;34m't'\u001b[0m\u001b[1;33m)\u001b[0m\u001b[1;33m)\u001b[0m\u001b[1;33m\u001b[0m\u001b[1;33m\u001b[0m\u001b[0m\n\u001b[1;32m----> 7\u001b[1;33m \u001b[0mprint\u001b[0m\u001b[1;33m(\u001b[0m\u001b[0mname\u001b[0m\u001b[1;33m.\u001b[0m\u001b[0mindex\u001b[0m\u001b[1;33m(\u001b[0m\u001b[1;34m'X'\u001b[0m\u001b[1;33m)\u001b[0m\u001b[1;33m)\u001b[0m\u001b[1;33m\u001b[0m\u001b[1;33m\u001b[0m\u001b[0m\n\u001b[0m",
      "\u001b[1;31mValueError\u001b[0m: substring not found"
     ]
    }
   ],
   "source": [
    "# 9-index Method\n",
    "# Index method is used to find the index of the first occurrence of a specified substring in a string.\n",
    "# It also returns value error \"substrings is not found\"\n",
    "\n",
    "name = \"Pakistan zindabad\"\n",
    "print(name.index('t'))\n",
    "print(name.index('X'))"
   ]
  },
  {
   "cell_type": "code",
   "execution_count": 20,
   "id": "f71a512a",
   "metadata": {},
   "outputs": [
    {
     "name": "stdout",
     "output_type": "stream",
     "text": [
      "True\n",
      "False\n"
     ]
    }
   ],
   "source": [
    "# 10-isalnum Method\n",
    "# used to check whether a string contains only alphanumeric characters or not.\n",
    "\n",
    "name1 = \"Pakistan123\"\n",
    "name2 = \"Pakistan!!123\"\n",
    "print(name1.isalnum())\n",
    "print(name2.isalnum())       # It returns false due to non-alphanumeric charachter \"!\""
   ]
  },
  {
   "cell_type": "code",
   "execution_count": 22,
   "id": "417b5e46",
   "metadata": {},
   "outputs": [
    {
     "name": "stdout",
     "output_type": "stream",
     "text": [
      "True\n",
      "False\n"
     ]
    }
   ],
   "source": [
    "# 11-isalpha Method\n",
    "# used to check whether a string contains only alphabetic characters or not.\n",
    "\n",
    "name1 = \"Pakistan\"\n",
    "name2 = \"Pakistan!!\"\n",
    "print(name1.isalpha())\n",
    "print(name2.isalpha()) "
   ]
  },
  {
   "cell_type": "code",
   "execution_count": 23,
   "id": "10bd88d8",
   "metadata": {},
   "outputs": [
    {
     "name": "stdout",
     "output_type": "stream",
     "text": [
      "True\n",
      "False\n"
     ]
    }
   ],
   "source": [
    "# 12-isascii Method\n",
    "# used to check whether a string contains only ASCII characters or not.\n",
    "\n",
    "name1 = \"Pakistan\"\n",
    "name2 = \"¡Hello¡\"\n",
    "print(name1.isascii())\n",
    "print(name2.isascii())"
   ]
  },
  {
   "cell_type": "code",
   "execution_count": 24,
   "id": "892b47fe",
   "metadata": {},
   "outputs": [
    {
     "name": "stdout",
     "output_type": "stream",
     "text": [
      "True\n",
      "False\n"
     ]
    }
   ],
   "source": [
    "# 13-isdecimal Method\n",
    "# used to check whether a string contains only decimal characters or not\n",
    "\n",
    "num1 = \"1234\"\n",
    "num2 = \"12.345\"\n",
    "print(num1.isdecimal())\n",
    "print(num2.isdecimal())"
   ]
  },
  {
   "cell_type": "code",
   "execution_count": 25,
   "id": "8558df8e",
   "metadata": {},
   "outputs": [
    {
     "name": "stdout",
     "output_type": "stream",
     "text": [
      "True\n",
      "False\n"
     ]
    }
   ],
   "source": [
    "# 14-isdigit Method\n",
    "# used to check whether a string contains only digits or not.\n",
    "\n",
    "num1 = \"1234\"\n",
    "num2 = \"12.345\"\n",
    "print(num1.isdigit())\n",
    "print(num2.isdigit())"
   ]
  },
  {
   "cell_type": "code",
   "execution_count": 26,
   "id": "3fe1bc9c",
   "metadata": {},
   "outputs": [
    {
     "name": "stdout",
     "output_type": "stream",
     "text": [
      "True\n",
      "False\n"
     ]
    }
   ],
   "source": [
    "# 15-isidentifier\n",
    "# used to check whether a string is a valid identifier or not.\n",
    "# An identifier is a sequence of characters in Python that represents a name, such as variable names, function names, class names, etc. \n",
    "# An identifier must follow certain rules, such as starting with a letter or underscore, and only containing letters, numbers, and underscores.\n",
    "\n",
    "name1 = \"my_var\"\n",
    "name2 = \"1myvar\"\n",
    "print(name1.isidentifier())\n",
    "print(name2.isidentifier())"
   ]
  },
  {
   "cell_type": "code",
   "execution_count": 27,
   "id": "c1fbc2ea",
   "metadata": {},
   "outputs": [
    {
     "name": "stdout",
     "output_type": "stream",
     "text": [
      "False\n",
      "True\n"
     ]
    }
   ],
   "source": [
    "# 16-islower Method\n",
    "# used to check whether all the characters in a string are lowercase or not.\n",
    "\n",
    "name1 = \"JaGdiSh\"\n",
    "name2 = \"jagdish\"\n",
    "print(name1.islower())\n",
    "print(name2.islower())"
   ]
  },
  {
   "cell_type": "code",
   "execution_count": 28,
   "id": "2bcb7a89",
   "metadata": {},
   "outputs": [
    {
     "name": "stdout",
     "output_type": "stream",
     "text": [
      "True\n",
      "False\n"
     ]
    }
   ],
   "source": [
    "# 17-isnumeric\n",
    "# used to check whether all the characters in a string are numeric characters or not.\n",
    "\n",
    "num1 = \"1234\"\n",
    "num2 = \"12.345\"\n",
    "\n",
    "print(num1.isnumeric())\n",
    "print(num2.isnumeric())"
   ]
  },
  {
   "cell_type": "code",
   "execution_count": 31,
   "id": "955af621",
   "metadata": {},
   "outputs": [
    {
     "name": "stdout",
     "output_type": "stream",
     "text": [
      "True\n",
      "False\n"
     ]
    }
   ],
   "source": [
    "# 18-isprintable Method\n",
    "# used to check whether all the characters in a string are printable or not.\n",
    "\n",
    "n = \"Hello World\"\n",
    "m = \"Hello \\n World\"\n",
    "print(n.isprintable())\n",
    "print(m.isprintable())"
   ]
  },
  {
   "cell_type": "code",
   "execution_count": 32,
   "id": "5842c2c5",
   "metadata": {},
   "outputs": [
    {
     "name": "stdout",
     "output_type": "stream",
     "text": [
      "False\n",
      "True\n",
      "False\n"
     ]
    }
   ],
   "source": [
    "# 19-isspace Method\n",
    "# used to check whether all the characters in a string are whitespace characters or not.\n",
    "\n",
    "n = \"Hello World\"\n",
    "m = \"\\t\\n\"\n",
    "p = \"\"\n",
    "\n",
    "print(n.isspace())\n",
    "print(m.isspace())\n",
    "print(p.isspace())"
   ]
  },
  {
   "cell_type": "code",
   "execution_count": 33,
   "id": "72005867",
   "metadata": {},
   "outputs": [
    {
     "name": "stdout",
     "output_type": "stream",
     "text": [
      "True\n",
      "False\n"
     ]
    }
   ],
   "source": [
    "# 20-istitle Method\n",
    "# used to check whether a string is a titlecased string or not.\n",
    "# A titlecased string is a string where the first letter of each word is capitalized and all other letters are lowercase.\n",
    "\n",
    "n = \"The Pakistan\"\n",
    "m = \"the pakistan\"\n",
    "\n",
    "print(n.istitle())\n",
    "print(m.istitle())"
   ]
  },
  {
   "cell_type": "code",
   "execution_count": 34,
   "id": "2ab831a2",
   "metadata": {},
   "outputs": [
    {
     "name": "stdout",
     "output_type": "stream",
     "text": [
      "False\n",
      "True\n"
     ]
    }
   ],
   "source": [
    "# 21-isupper Method\n",
    "# used to check whether all the alphabetic characters in a string are uppercase or not.\n",
    "\n",
    "n = \"hello world\"\n",
    "m = \"HELLO WORLD\"\n",
    "\n",
    "print(n.isupper())\n",
    "print(m.isupper())"
   ]
  },
  {
   "cell_type": "code",
   "execution_count": 36,
   "id": "12f2bad5",
   "metadata": {},
   "outputs": [
    {
     "name": "stdout",
     "output_type": "stream",
     "text": [
      "P,a,k,i,s,t,a,n\n",
      "Z!i!n!d!a!b!a!d\n"
     ]
    }
   ],
   "source": [
    "# 22-join Method\n",
    "# used to join a sequence of strings together into a single string, using a specified separator string.\n",
    "\n",
    "separator = \",\"\n",
    "name = \"Pakistan\"\n",
    "\n",
    "print(separator.join(name))\n",
    "\n",
    "separator = \"!\"\n",
    "name = \"Zindabad\"\n",
    "\n",
    "print(separator.join(name))"
   ]
  },
  {
   "cell_type": "code",
   "execution_count": 38,
   "id": "3ea359be",
   "metadata": {},
   "outputs": [
    {
     "name": "stdout",
     "output_type": "stream",
     "text": [
      "Hello!!!!!\n"
     ]
    }
   ],
   "source": [
    "# 23-ljust Method\n",
    "# used to left justify a string within a specified width by padding it with a specified character on the right.\n",
    "\n",
    "name = \"Hello\"\n",
    "print(name.ljust(10,'!'))"
   ]
  },
  {
   "cell_type": "code",
   "execution_count": 39,
   "id": "162fee4d",
   "metadata": {},
   "outputs": [
    {
     "name": "stdout",
     "output_type": "stream",
     "text": [
      "jagdish das\n"
     ]
    }
   ],
   "source": [
    "# 24-lower Method\n",
    "# used to convert all the alphabetic characters in a string to lowercase.\n",
    "\n",
    "name = \"JAGDISH DAS\"\n",
    "print(name.lower())"
   ]
  },
  {
   "cell_type": "code",
   "execution_count": 40,
   "id": "e94809d2",
   "metadata": {},
   "outputs": [
    {
     "name": "stdout",
     "output_type": "stream",
     "text": [
      "Jagdish    !!\n"
     ]
    }
   ],
   "source": [
    "# 25-lstrip Method\n",
    "# used to remove leading whitespace characters from a string.\n",
    "\n",
    "name = \"    Jagdish    !!\"\n",
    "print(name.lstrip())"
   ]
  },
  {
   "cell_type": "code",
   "execution_count": 41,
   "id": "1e1a7132",
   "metadata": {},
   "outputs": [
    {
     "name": "stdout",
     "output_type": "stream",
     "text": [
      "Hipp Wrpd\n"
     ]
    }
   ],
   "source": [
    "# 26-maketrans Method\n",
    "# used to create a translation table that can be used by the translate() method to replace specified characters in a string.\n",
    "\n",
    "name = \"Hello World\"\n",
    "n = name.maketrans('el','ip','o')\n",
    "m = name.translate(n)\n",
    "print(m)\n",
    "      "
   ]
  },
  {
   "cell_type": "code",
   "execution_count": 42,
   "id": "0b9aaf72",
   "metadata": {},
   "outputs": [
    {
     "name": "stdout",
     "output_type": "stream",
     "text": [
      "('Bonjour', ',', ' Sir.Jay')\n"
     ]
    }
   ],
   "source": [
    "# 27-partition Method\n",
    "# used to split a string into three parts based on a specified separator.\n",
    "\n",
    "name = \"Bonjour, Sir.Jay\"\n",
    "print(name.partition(','))"
   ]
  },
  {
   "cell_type": "code",
   "execution_count": 43,
   "id": "0ed8ca03",
   "metadata": {},
   "outputs": [
    {
     "name": "stdout",
     "output_type": "stream",
     "text": [
      " World\n"
     ]
    }
   ],
   "source": [
    "# 28-removeprefix Method\n",
    "# used to remove a specified prefix from a string(If start with specified string).\n",
    "\n",
    "name = \"Hello World\"\n",
    "print(name.removeprefix('Hello'))"
   ]
  },
  {
   "cell_type": "code",
   "execution_count": 44,
   "id": "1e4a8488",
   "metadata": {},
   "outputs": [
    {
     "name": "stdout",
     "output_type": "stream",
     "text": [
      "Hello \n"
     ]
    }
   ],
   "source": [
    "# 29-removesuffix Method\n",
    "# used to remove a specified suffix from a string. \n",
    "# If the string ends with the specified suffix, the suffix is removed and the modified string is returned.\n",
    "\n",
    "name = \"Hello World\"\n",
    "print(name.removesuffix(\"World\"))"
   ]
  },
  {
   "cell_type": "code",
   "execution_count": 45,
   "id": "6a3685e8",
   "metadata": {},
   "outputs": [
    {
     "name": "stdout",
     "output_type": "stream",
     "text": [
      "Hello Universe\n"
     ]
    }
   ],
   "source": [
    "# 30-replace Method\n",
    "# used to replace all occurrences of a specified substring in a string with another substring.\n",
    "\n",
    "name = \"Hello World\"\n",
    "print(name.replace(\"World\",\"Universe\"))"
   ]
  },
  {
   "cell_type": "code",
   "execution_count": 46,
   "id": "aa3f5a97",
   "metadata": {},
   "outputs": [
    {
     "name": "stdout",
     "output_type": "stream",
     "text": [
      "7\n",
      "1\n",
      "-1\n"
     ]
    }
   ],
   "source": [
    "# 31-rfind Method\n",
    "# returns the highest index in the string where a specified substring is found. \n",
    "# The method searches the string from right to left, starting from the specified position, and returns -1 if the substring is not found.\n",
    "\n",
    "name = \"Hello World\"\n",
    "print(name.rfind(\"o\"))\n",
    "print(name.rfind(\"e\"))\n",
    "print(name.rfind(\"z\"))"
   ]
  },
  {
   "cell_type": "code",
   "execution_count": 47,
   "id": "5cad0fbb",
   "metadata": {},
   "outputs": [
    {
     "name": "stdout",
     "output_type": "stream",
     "text": [
      "7\n",
      "1\n"
     ]
    },
    {
     "ename": "ValueError",
     "evalue": "substring not found",
     "output_type": "error",
     "traceback": [
      "\u001b[1;31m---------------------------------------------------------------------------\u001b[0m",
      "\u001b[1;31mValueError\u001b[0m                                Traceback (most recent call last)",
      "\u001b[1;32m~\\AppData\\Local\\Temp\\ipykernel_22524\\3155740593.py\u001b[0m in \u001b[0;36m<module>\u001b[1;34m\u001b[0m\n\u001b[0;32m      5\u001b[0m \u001b[0mprint\u001b[0m\u001b[1;33m(\u001b[0m\u001b[0mname\u001b[0m\u001b[1;33m.\u001b[0m\u001b[0mrindex\u001b[0m\u001b[1;33m(\u001b[0m\u001b[1;34m\"o\"\u001b[0m\u001b[1;33m)\u001b[0m\u001b[1;33m)\u001b[0m\u001b[1;33m\u001b[0m\u001b[1;33m\u001b[0m\u001b[0m\n\u001b[0;32m      6\u001b[0m \u001b[0mprint\u001b[0m\u001b[1;33m(\u001b[0m\u001b[0mname\u001b[0m\u001b[1;33m.\u001b[0m\u001b[0mrindex\u001b[0m\u001b[1;33m(\u001b[0m\u001b[1;34m\"e\"\u001b[0m\u001b[1;33m)\u001b[0m\u001b[1;33m)\u001b[0m\u001b[1;33m\u001b[0m\u001b[1;33m\u001b[0m\u001b[0m\n\u001b[1;32m----> 7\u001b[1;33m \u001b[0mprint\u001b[0m\u001b[1;33m(\u001b[0m\u001b[0mname\u001b[0m\u001b[1;33m.\u001b[0m\u001b[0mrindex\u001b[0m\u001b[1;33m(\u001b[0m\u001b[1;34m\"z\"\u001b[0m\u001b[1;33m)\u001b[0m\u001b[1;33m)\u001b[0m\u001b[1;33m\u001b[0m\u001b[1;33m\u001b[0m\u001b[0m\n\u001b[0m",
      "\u001b[1;31mValueError\u001b[0m: substring not found"
     ]
    }
   ],
   "source": [
    "# 32-rindex Method\n",
    "# similar to the rfind() method, but instead of returning -1 when the substring is not found, it raises a ValueError exception.\n",
    "\n",
    "name = \"Hello World\"\n",
    "print(name.rindex(\"o\"))\n",
    "print(name.rindex(\"e\"))\n",
    "print(name.rindex(\"z\"))"
   ]
  },
  {
   "cell_type": "code",
   "execution_count": 48,
   "id": "de7df1e1",
   "metadata": {},
   "outputs": [
    {
     "name": "stdout",
     "output_type": "stream",
     "text": [
      "     Hello\n",
      "-----Hello\n"
     ]
    }
   ],
   "source": [
    "# 33-rjust Method\n",
    "# returns a right-justified version of a given string by padding it with a specified character (or space) on the left side. \n",
    "# This method returns a new string and does not modify the original string.\n",
    "\n",
    "name = \"Hello\"\n",
    "print(name.rjust(10))\n",
    "print(name.rjust(10,'-'))"
   ]
  },
  {
   "cell_type": "code",
   "execution_count": 49,
   "id": "c1a38ea2",
   "metadata": {},
   "outputs": [
    {
     "name": "stdout",
     "output_type": "stream",
     "text": [
      "('apple,banana', ',', 'mango')\n"
     ]
    }
   ],
   "source": [
    "# 34-rpartition Method\n",
    "# separates the given string into three parts using a separator (also called a delimiter) specified as an argument. \n",
    "# The separation occurs from the right side of the string.\n",
    "\n",
    "n = \"apple,banana,mango\"\n",
    "print(n.rpartition(\",\"))"
   ]
  },
  {
   "cell_type": "code",
   "execution_count": 50,
   "id": "2b21a1c4",
   "metadata": {},
   "outputs": [
    {
     "name": "stdout",
     "output_type": "stream",
     "text": [
      "['Hello', 'World']\n"
     ]
    }
   ],
   "source": [
    "# 35-rsplit Method\n",
    "# splits a given string into a list of substrings, starting from the right side of the string, using a specified separator (also called a delimiter). \n",
    "# If no separator is specified, the method splits the string at whitespace characters (spaces, tabs, and newlines)\n",
    "\n",
    "name = \"Hello World\"\n",
    "print(name.rsplit())"
   ]
  },
  {
   "cell_type": "code",
   "execution_count": 51,
   "id": "06a302f3",
   "metadata": {},
   "outputs": [
    {
     "name": "stdout",
     "output_type": "stream",
     "text": [
      "Hello World\n"
     ]
    }
   ],
   "source": [
    "# 36-rstrip Method\n",
    "# returns a new string with trailing whitespace characters (spaces, tabs, and newlines) removed from the right side of the original string.\n",
    "\n",
    "name = \"Hello World!!\"\n",
    "print(name.rstrip('!'))"
   ]
  },
  {
   "cell_type": "code",
   "execution_count": 52,
   "id": "fdd66292",
   "metadata": {},
   "outputs": [
    {
     "name": "stdout",
     "output_type": "stream",
     "text": [
      "['Hello', 'World']\n"
     ]
    }
   ],
   "source": [
    "# 37-split Method\n",
    "# splits a given string into a list of substrings, using a specified separator (also called a delimiter). If no separator is specified, the method splits the string at whitespace characters (spaces, tabs, and newlines).\n",
    "\n",
    "name = \"   Hello World  \"\n",
    "print(name.split())"
   ]
  },
  {
   "cell_type": "code",
   "execution_count": 53,
   "id": "0ccff0d4",
   "metadata": {},
   "outputs": [
    {
     "name": "stdout",
     "output_type": "stream",
     "text": [
      "['Hello', 'World', 'Goodnight']\n"
     ]
    }
   ],
   "source": [
    "# 38-splitlines Method\n",
    "# splits a given string into a list of substrings, using the newline character(s) (\\n, \\r, and \\r\\n) as the delimiter.\n",
    "\n",
    "name = \"Hello\\nWorld\\nGoodnight\"\n",
    "print(name.splitlines())"
   ]
  },
  {
   "cell_type": "code",
   "execution_count": 54,
   "id": "2cb5d55b",
   "metadata": {},
   "outputs": [
    {
     "name": "stdout",
     "output_type": "stream",
     "text": [
      "True\n",
      "False\n"
     ]
    }
   ],
   "source": [
    "# 39-startswith Method\n",
    "# returns a boolean value indicating whether a given string starts with a specified prefix.\n",
    "\n",
    "name = \"Jagdish Das\"\n",
    "print(name.startswith('Jagdish'))\n",
    "print(name.startswith('Das'))"
   ]
  },
  {
   "cell_type": "code",
   "execution_count": 55,
   "id": "4b9b9a5d",
   "metadata": {},
   "outputs": [
    {
     "name": "stdout",
     "output_type": "stream",
     "text": [
      "Jagdish Das!\n"
     ]
    }
   ],
   "source": [
    "# 40-strip Method\n",
    "# returns a new string with any leading or trailing whitespace removed.\n",
    "\n",
    "name = \"   \\t\\n Jagdish Das!  \"\n",
    "print(name.strip())"
   ]
  },
  {
   "cell_type": "code",
   "execution_count": 56,
   "id": "4f1d5d07",
   "metadata": {},
   "outputs": [
    {
     "name": "stdout",
     "output_type": "stream",
     "text": [
      "jaGdIsH dAs\n",
      "hello world\n"
     ]
    }
   ],
   "source": [
    "# 41-swapcase Method\n",
    "# returns a new string where all the uppercase characters are converted to lowercase and vice versa\n",
    "\n",
    "name = \"JAgDiSh DaS\"\n",
    "print(name.swapcase())\n",
    "\n",
    "n = \"HELLO WORLD\"\n",
    "print(n.swapcase())"
   ]
  },
  {
   "cell_type": "code",
   "execution_count": 57,
   "id": "6c5b77d7",
   "metadata": {},
   "outputs": [
    {
     "name": "stdout",
     "output_type": "stream",
     "text": [
      "Jagdish Das\n"
     ]
    }
   ],
   "source": [
    "# 42-title Method\n",
    "# returns a new string with the first character of each word in uppercase and the rest of the characters in lowercase.\n",
    "\n",
    "name = \"Jagdish Das\"\n",
    "print(name.title())"
   ]
  },
  {
   "cell_type": "code",
   "execution_count": 58,
   "id": "2ab07a3d",
   "metadata": {},
   "outputs": [
    {
     "name": "stdout",
     "output_type": "stream",
     "text": [
      "Hipp Wrpd\n"
     ]
    }
   ],
   "source": [
    "# 43-translate Method\n",
    "# returns a string where some specified characters are replaced with the character described in a dictionary, or in a mapping table.\n",
    "\n",
    "name = \"Hello World\"\n",
    "n = name.maketrans('el','ip','o')\n",
    "m = name.translate(n)\n",
    "print(m)"
   ]
  },
  {
   "cell_type": "code",
   "execution_count": 59,
   "id": "3a10d1d8",
   "metadata": {},
   "outputs": [
    {
     "name": "stdout",
     "output_type": "stream",
     "text": [
      "JAGDISH DAS\n"
     ]
    }
   ],
   "source": [
    "# 44-upper Method\n",
    "# returns a new string with all the characters converted to uppercase.\n",
    "\n",
    "name = \"jagdish das\"\n",
    "print(name.upper())"
   ]
  },
  {
   "cell_type": "code",
   "execution_count": 63,
   "id": "f9539166",
   "metadata": {},
   "outputs": [
    {
     "name": "stdout",
     "output_type": "stream",
     "text": [
      "000Jagdish\n"
     ]
    }
   ],
   "source": [
    "# 45-zfill Method\n",
    "# returns a new string with zeros (0) added to the left side of a string until it reaches a specified length.\n",
    "\n",
    "name = \"Jagdish\"\n",
    "print(name.zfill(10))  # It added 3 zeros to left to complete the total length of 10 charachters"
   ]
  }
 ],
 "metadata": {
  "kernelspec": {
   "display_name": "Python 3 (ipykernel)",
   "language": "python",
   "name": "python3"
  },
  "language_info": {
   "codemirror_mode": {
    "name": "ipython",
    "version": 3
   },
   "file_extension": ".py",
   "mimetype": "text/x-python",
   "name": "python",
   "nbconvert_exporter": "python",
   "pygments_lexer": "ipython3",
   "version": "3.9.13"
  }
 },
 "nbformat": 4,
 "nbformat_minor": 5
}
